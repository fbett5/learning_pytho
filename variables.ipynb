{
 "cells": [
  {
   "cell_type": "code",
   "execution_count": 1,
   "metadata": {},
   "outputs": [
    {
     "name": "stdout",
     "output_type": "stream",
     "text": [
      "Hello World!\n",
      "Welcome to Python Programming!\n",
      "Hello world! Welcome to Python Programming!\n"
     ]
    }
   ],
   "source": [
    "\n",
    "#say hello to the world\n",
    "print(\"Hello World!\")\n",
    "\n",
    "#welcome to python programming\n",
    "print(\"Welcome to Python Programming!\")\n",
    "\n",
    "#combine strings\n",
    "print(\"Hello world! \" + \"Welcome to Python Programming!\")"
   ]
  },
  {
   "cell_type": "code",
   "execution_count": 2,
   "metadata": {},
   "outputs": [
    {
     "name": "stdout",
     "output_type": "stream",
     "text": [
      "My name is John Doe and I am 20 years old.I also love to do Programming.\n"
     ]
    }
   ],
   "source": [
    "#variables and data types\n",
    "#variables are used to store data\n",
    "\n",
    "age = 20\n",
    "name = \"John Doe\"\n",
    "hobby = \"Programming\"\n",
    "\n",
    "print(\"My name is \" + name + \" and I am \" + str(age) + \" years old.\"+ \"I also love to do \" + hobby + \".\")"
   ]
  },
  {
   "cell_type": "code",
   "execution_count": 3,
   "metadata": {},
   "outputs": [
    {
     "name": "stdout",
     "output_type": "stream",
     "text": [
      "7\n",
      "3\n",
      "10\n",
      "2.5\n",
      "1\n",
      "25\n",
      "2\n"
     ]
    }
   ],
   "source": [
    "#basic operations\n",
    "#addition\n",
    "print(5 + 2)\n",
    "#subtraction\n",
    "print(5 - 2)\n",
    "#multiplication\n",
    "print(5 * 2)\n",
    "#division\n",
    "print(5 / 2)\n",
    "#modulo\n",
    "print(5 % 2)\n",
    "#exponentiation\n",
    "print(5 ** 2)\n",
    "#floor division\n",
    "print(5 // 2)\n"
   ]
  },
  {
   "cell_type": "code",
   "execution_count": 4,
   "metadata": {},
   "outputs": [
    {
     "name": "stdout",
     "output_type": "stream",
     "text": [
      "festus mugoandKen bett are friends\n"
     ]
    }
   ],
   "source": [
    "#strings concatenation\n",
    "\n",
    "firstName= \"festus\"\n",
    "lastName= \"mugo\"\n",
    "\n",
    "fn = \"Ken\"\n",
    "ln = \"bett\"\n",
    "print(firstName +\" \"+ lastName + \"and\" + fn + \" \" + ln + \" \"+ \"are friends\")\n"
   ]
  },
  {
   "cell_type": "code",
   "execution_count": 5,
   "metadata": {},
   "outputs": [
    {
     "name": "stdout",
     "output_type": "stream",
     "text": [
      "You are an adult\n"
     ]
    }
   ],
   "source": [
    "#conditional statements\n",
    "# if statements\n",
    "\n",
    "age =int(input(\"Enter your age: \"))\n",
    "\n",
    "if age >= 18 and age < 50:\n",
    "    print(\"You are an adult\")\n",
    "elif age >= 50: \n",
    "    print(\"You are a senior citizen\")\n",
    "else:\n",
    "    print(\"You are a minor\")"
   ]
  },
  {
   "cell_type": "code",
   "execution_count": 6,
   "metadata": {},
   "outputs": [
    {
     "name": "stdout",
     "output_type": "stream",
     "text": [
      "festu you are a adult\n"
     ]
    }
   ],
   "source": [
    "#lets calculates our age\n",
    "current_year = 2024\n",
    "\n",
    "my_age= int(input(\"Enter your age: \"))\n",
    "my_name = input(\"Enter your name: \")\n",
    "\n",
    "my_age = current_year - my_age\n",
    "name = my_name \n",
    "\n",
    "if my_age >= 18:\n",
    "    print(name + \" \" + \"you are a adult\")\n",
    "else:\n",
    "    print(name + \" \" + \"you are a minor\")"
   ]
  },
  {
   "cell_type": "code",
   "execution_count": 7,
   "metadata": {},
   "outputs": [
    {
     "name": "stdout",
     "output_type": "stream",
     "text": [
      "1\n",
      "2\n",
      "3\n",
      "4\n",
      "5\n",
      "6\n",
      "7\n",
      "8\n",
      "9\n",
      "10\n"
     ]
    }
   ],
   "source": [
    "##loops\n",
    "#for loop\n",
    "\n",
    "#list of numbers\n",
    "numbers = [1,2,3,4,5,6,7,8,9,10]\n",
    "for num in numbers:\n",
    "    print (num)"
   ]
  },
  {
   "cell_type": "code",
   "execution_count": 8,
   "metadata": {},
   "outputs": [
    {
     "name": "stdout",
     "output_type": "stream",
     "text": [
      "3\n",
      "6\n",
      "9\n",
      "12\n",
      "15\n",
      "18\n"
     ]
    }
   ],
   "source": [
    "#list numbers from 1 to 20 that is divisible by 3\n",
    "for num in range(1,21):\n",
    "    if num%3 == 0:\n",
    "        print(num)"
   ]
  },
  {
   "cell_type": "code",
   "execution_count": 9,
   "metadata": {},
   "outputs": [
    {
     "name": "stdout",
     "output_type": "stream",
     "text": [
      "0\n",
      "5\n",
      "10\n",
      "15\n",
      "20\n",
      "25\n",
      "30\n",
      "35\n",
      "40\n",
      "45\n",
      "50\n",
      "55\n",
      "60\n",
      "65\n",
      "70\n",
      "75\n",
      "80\n",
      "85\n",
      "90\n",
      "95\n"
     ]
    }
   ],
   "source": [
    "num = 0  # Initialize num\n",
    "while num < 100:\n",
    "    if num % 5 == 0:\n",
    "        print(num)\n",
    "    num += 1  # Increment num"
   ]
  },
  {
   "cell_type": "code",
   "execution_count": 10,
   "metadata": {},
   "outputs": [
    {
     "name": "stdout",
     "output_type": "stream",
     "text": [
      "0\n",
      "3\n",
      "6\n",
      "9\n",
      "12\n",
      "15\n",
      "18\n",
      "21\n",
      "24\n",
      "27\n",
      "30\n",
      "33\n",
      "36\n",
      "39\n",
      "42\n",
      "45\n",
      "48\n",
      "51\n",
      "54\n",
      "57\n",
      "60\n",
      "63\n",
      "66\n",
      "69\n",
      "72\n",
      "75\n",
      "78\n",
      "81\n",
      "84\n",
      "87\n",
      "90\n",
      "93\n",
      "96\n",
      "99\n"
     ]
    }
   ],
   "source": [
    "#lets count from 1 to 100\n",
    "count =0\n",
    "while count<=100:\n",
    "    if count%3 ==0:\n",
    "        print(count)\n",
    "    count +=1"
   ]
  },
  {
   "cell_type": "code",
   "execution_count": 11,
   "metadata": {},
   "outputs": [
    {
     "name": "stdout",
     "output_type": "stream",
     "text": [
      "[{'name': 'Alice', 'age': 25}, {'name': 'Bob', 'age': 30}]\n"
     ]
    }
   ],
   "source": [
    "users = [{\"name\": \"Alice\", \"age\": 25}, {\"name\": \"Bob\", \"age\": 30}, {\"name\": \"Charlie\", \"age\": 17}]\n",
    "adult_users = [user for user in users if user['age'] >= 18]\n",
    "print(adult_users)\n"
   ]
  },
  {
   "cell_type": "code",
   "execution_count": 12,
   "metadata": {},
   "outputs": [
    {
     "name": "stdout",
     "output_type": "stream",
     "text": [
      "[{'festus': 20, 'mugo': 30, 'bett': 40, 'ken': 50, 'jane': 60, 'mary': 70}]\n"
     ]
    }
   ],
   "source": [
    "#dictionary\n",
    "#dictionary is a collection of key value pairs\n",
    "#dictionary is mutable\n",
    "#dictionary is unordered\n",
    "#dictionary is defined using curly braces {}\n",
    "#dictionary is accessed using the key\n",
    "dict =[\n",
    "     {\"festus\": 20, \"mugo\": 30, \"bett\": 40, \"ken\": 50, \"jane\": 60, \"mary\": 70}\n",
    "     ]\n",
    "print(dict)"
   ]
  },
  {
   "cell_type": "code",
   "execution_count": 13,
   "metadata": {},
   "outputs": [
    {
     "name": "stdout",
     "output_type": "stream",
     "text": [
      "Hello World!\n"
     ]
    }
   ],
   "source": [
    "#function in python\n",
    "#function is a block of code that performs a specific task\n",
    "#function is defined using the def keyword\n",
    "#function is called by its name\n",
    "#function can have parameters\n",
    "#function can return a value\n",
    "#function can be recursive\n",
    "def greet():\n",
    "    print(\"Hello World!\")\n",
    "greet()"
   ]
  },
  {
   "cell_type": "code",
   "execution_count": 14,
   "metadata": {},
   "outputs": [
    {
     "name": "stdout",
     "output_type": "stream",
     "text": [
      "7\n",
      "None\n"
     ]
    }
   ],
   "source": [
    "def add(x, y):\n",
    "    return x + y\n",
    "\n",
    "sum  = print(add(5, 2))\n",
    "print(sum)\n"
   ]
  },
  {
   "cell_type": "code",
   "execution_count": 15,
   "metadata": {},
   "outputs": [
    {
     "name": "stdout",
     "output_type": "stream",
     "text": [
      "153.958\n"
     ]
    }
   ],
   "source": [
    "#lets create a function that calculates the area of a circle\n",
    "def area_of_circle(radius):\n",
    "    return 3.142 * radius ** 2\n",
    "radius = int(input(\"Enter the radius: \"))\n",
    "print(area_of_circle(radius))   "
   ]
  },
  {
   "cell_type": "code",
   "execution_count": 16,
   "metadata": {},
   "outputs": [
    {
     "name": "stdout",
     "output_type": "stream",
     "text": [
      "153.958\n"
     ]
    }
   ],
   "source": [
    "#lamda function\n",
    "#lamda function is an anonymous function\n",
    "#lamda function is defined using the lambda keyword\n",
    "#lamda function can have any number of arguments but only one expression\n",
    "#calculate the area of a circle using lamda function\n",
    "area_of_circle = lambda radius: 3.142 * radius ** 2\n",
    "radius = int(input(\"Enter the radius: \"))\n",
    "print(area_of_circle(radius))   "
   ]
  },
  {
   "cell_type": "code",
   "execution_count": 17,
   "metadata": {},
   "outputs": [
    {
     "name": "stdout",
     "output_type": "stream",
     "text": [
      "hello festu!\n"
     ]
    }
   ],
   "source": [
    "#defining and calling a function\n",
    "def greet(name):\n",
    "    return name\n",
    "print(\"hello \" + name + \"!\")  \n",
    "    "
   ]
  },
  {
   "cell_type": "code",
   "execution_count": 18,
   "metadata": {},
   "outputs": [
    {
     "name": "stdout",
     "output_type": "stream",
     "text": [
      "7\n"
     ]
    }
   ],
   "source": [
    "def add(c, d):\n",
    "    return c + d\n",
    "results= add(5, 2)\n",
    "print(results)"
   ]
  },
  {
   "cell_type": "code",
   "execution_count": 19,
   "metadata": {},
   "outputs": [
    {
     "name": "stdout",
     "output_type": "stream",
     "text": [
      "10\n"
     ]
    }
   ],
   "source": [
    "#labda function\n",
    "multiplytion = lambda a, b: a * b\n",
    "print(multiplytion(5, 2))"
   ]
  },
  {
   "cell_type": "code",
   "execution_count": 20,
   "metadata": {},
   "outputs": [
    {
     "name": "stdout",
     "output_type": "stream",
     "text": [
      "[1, 2, 3, 4, 5, 6, 7, 8, 9, 10]\n"
     ]
    }
   ],
   "source": [
    "#data structures\n",
    "#list\n",
    "x = [1,2,3,4,5,6,7,8,9,10]\n",
    "print(x)\n",
    "\n"
   ]
  },
  {
   "cell_type": "code",
   "execution_count": 21,
   "metadata": {},
   "outputs": [
    {
     "name": "stdout",
     "output_type": "stream",
     "text": [
      "[1, 2, 3, 4, 5, 6, 7, 8, 9, 10, 11]\n"
     ]
    }
   ],
   "source": [
    "x= [1,2,3,4,5,6,7,8,9,10]\n",
    "x.append(11)\n",
    "print(x)"
   ]
  },
  {
   "cell_type": "code",
   "execution_count": 22,
   "metadata": {},
   "outputs": [
    {
     "name": "stdout",
     "output_type": "stream",
     "text": [
      "(1, 2, 3, 4, 5, 6, 7, 8, 9, 10)\n"
     ]
    }
   ],
   "source": [
    "#tuples \n",
    "#tuples are immutable\n",
    "#tuples are defined using the round brackets ()\n",
    "my_tuple = (1,2,3,4,5,6,7,8,9,10)\n",
    "print(my_tuple)"
   ]
  },
  {
   "cell_type": "code",
   "execution_count": 23,
   "metadata": {},
   "outputs": [
    {
     "name": "stdout",
     "output_type": "stream",
     "text": [
      "3\n"
     ]
    }
   ],
   "source": [
    "print(my_tuple[2])"
   ]
  },
  {
   "cell_type": "code",
   "execution_count": 24,
   "metadata": {},
   "outputs": [
    {
     "name": "stdout",
     "output_type": "stream",
     "text": [
      "[1, 2, 3, 4, 5, 6, 7, 8, 9, 10, 11]\n"
     ]
    }
   ],
   "source": [
    "#list\n",
    "#list are mutable\n",
    "my_list = [1,2,3,4,5,6,7,8,9,10]\n",
    "my_list.append(11)\n",
    "print(my_list)"
   ]
  },
  {
   "cell_type": "code",
   "execution_count": 25,
   "metadata": {},
   "outputs": [
    {
     "name": "stdout",
     "output_type": "stream",
     "text": [
      "{'name': 'festus', 'age': 20, 'hobby': 'programming'}\n"
     ]
    }
   ],
   "source": [
    "#dictionary\n",
    "my_dict = {\"name\": \"festus\", \"age\": 20, \"hobby\": \"programming\"}\n",
    "print(my_dict)\n"
   ]
  },
  {
   "cell_type": "code",
   "execution_count": 26,
   "metadata": {},
   "outputs": [
    {
     "name": "stdout",
     "output_type": "stream",
     "text": [
      "festus\n"
     ]
    }
   ],
   "source": [
    "print(my_dict[\"name\"])"
   ]
  },
  {
   "cell_type": "code",
   "execution_count": 27,
   "metadata": {},
   "outputs": [
    {
     "name": "stdout",
     "output_type": "stream",
     "text": [
      "{1, 2, 3, 4, 5, 6, 7, 8, 9, 10}\n"
     ]
    }
   ],
   "source": [
    "#set \n",
    "#set is a collection of unique elements\n",
    "my_set = {1,2,3,4,5,6,7,8,9,10}\n",
    "print(my_set)"
   ]
  },
  {
   "cell_type": "code",
   "execution_count": 28,
   "metadata": {},
   "outputs": [
    {
     "name": "stdout",
     "output_type": "stream",
     "text": [
      "{1, 2, 3, 4, 5, 6, 7, 8, 9, 10, 11}\n"
     ]
    }
   ],
   "source": [
    "my_set.add(11)\n",
    "print(my_set)"
   ]
  },
  {
   "cell_type": "code",
   "execution_count": 29,
   "metadata": {},
   "outputs": [],
   "source": [
    "#weiting to files in python\n",
    "#open a file in write mode\n",
    "with open(\"test.txt\", \"w\") as file:\n",
    "    file.write(\"Hello World!\")\n",
    "    file.write(\"Welcome to Python Programming!\")\n",
    "    file.write(\"My name is Festus Mugo and I am 20 years old. Join me in learning Python Programming!\")\n",
    "\n"
   ]
  },
  {
   "cell_type": "code",
   "execution_count": 30,
   "metadata": {},
   "outputs": [],
   "source": [
    "import csv\n",
    "f = open(\"test.csv\", \"w\")\n",
    "print(\"Name,Age,Location\", file=f)\n",
    "print(\"Festus,20,Nairobi\", file=f)"
   ]
  },
  {
   "cell_type": "code",
   "execution_count": 31,
   "metadata": {},
   "outputs": [],
   "source": [
    "import csv\n",
    "f = open(\"file.csv\", \"w\")\n",
    "print(\"Festus,20,Nairobi\", file=f)"
   ]
  },
  {
   "cell_type": "code",
   "execution_count": 32,
   "metadata": {},
   "outputs": [
    {
     "name": "stdout",
     "output_type": "stream",
     "text": [
      "Max\n",
      "3\n",
      "2\n",
      "Buddy\n"
     ]
    }
   ],
   "source": [
    "#classes and objects\n",
    "#leys defien a class named dog\n",
    "class Dog:\n",
    "    #condstructor - it is called when an object is created\n",
    "    #self is a reference to the current instance of the class\n",
    "    def __init__ (self, name, age):\n",
    "        self.name = name #instance variable: it is unique to each instance: name is a property of the dog class\n",
    "        self.age = age #instance variable: it is unique to each instance: age is a property of the dog class\n",
    "    #method for the dog class\n",
    "    def bark(self):\n",
    "        print(\"Bark!\") #method for the dog class\n",
    "\n",
    "#lets create an object of the dog class\n",
    "dog1 = Dog(\"Max\", 2) #dog1 is an object of the dog class\n",
    "print(dog1.name) #access the name property of the dog class\n",
    "dog2 = Dog(\"Buddy\", 3)  #dog2 is an object of the dog class\n",
    "print(dog2.age) #access the age property of the dog class\n",
    "print(dog1.age) #access the age property of the dog class\n",
    "print(dog2.name) #access the name property of the dog class"
   ]
  },
  {
   "cell_type": "code",
   "execution_count": null,
   "metadata": {},
   "outputs": [],
   "source": []
  },
  {
   "cell_type": "code",
   "execution_count": 33,
   "metadata": {},
   "outputs": [
    {
     "name": "stdout",
     "output_type": "stream",
     "text": [
      "Kitty\n",
      "2\n",
      "Meow!\n",
      "Max\n",
      "3\n"
     ]
    }
   ],
   "source": [
    "#inheritance, encapsulation, polymorphism, abstraction\n",
    "#inheritance\n",
    "#inheritance is the process where one class inherits the properties of another class\n",
    "#the class that inherits the properties of another class is called the child class\n",
    "\n",
    "#lets define a class named Animal\n",
    "class Animal:\n",
    "    def __init__(self, name, age): #constructor - it is called when an object is created\n",
    "        self.name = name #encapsulation: name is a property of the Animal class\n",
    "        self.age = age #encapsulation: age is a property of the Animal class\n",
    "    def speak(self): #polymorphism: speak is a method of the Animal class\n",
    "        pass #abstraction: pass is a keyword used to indicate that the method is empty\n",
    "\n",
    "\n",
    "#let define a class named cat that inherits the properties of the Animal class\n",
    "class cat(Animal):\n",
    "    def speak(self): #polymorphism: speak is a method of the Animal class\n",
    "        print(\"Meow!\") #polymorphism: speak is a method of the Animal class\n",
    "class dog(Animal):\n",
    "    def speak(self): #polymorphism: speak is a method of the Animal class\n",
    "        print(\"Bark!\") #polymorphism: speak is a method of the Animal class\n",
    "\n",
    "\n",
    "\n",
    "#object of cat and dog class\n",
    "cat1 = cat(\"Kitty\", 2) #cat1 is an object of the cat class\n",
    "dog1 = dog(\"Max\", 3) #dog1 is an object of the dog class\n",
    "print(cat1.name) #access the name property of the Animal class\n",
    "print(cat1.age) #access the age property of the Animal class\n",
    "cat1.speak() #access the speak method of the Animal class\n",
    "print(dog1.name) #access the name property of the Animal class\n",
    "print(dog1.age) #access the age property of the Animal class\n",
    "    "
   ]
  },
  {
   "cell_type": "code",
   "execution_count": null,
   "metadata": {},
   "outputs": [],
   "source": []
  }
 ],
 "metadata": {
  "kernelspec": {
   "display_name": "Python 3",
   "language": "python",
   "name": "python3"
  },
  "language_info": {
   "codemirror_mode": {
    "name": "ipython",
    "version": 3
   },
   "file_extension": ".py",
   "mimetype": "text/x-python",
   "name": "python",
   "nbconvert_exporter": "python",
   "pygments_lexer": "ipython3",
   "version": "3.12.1"
  }
 },
 "nbformat": 4,
 "nbformat_minor": 2
}
