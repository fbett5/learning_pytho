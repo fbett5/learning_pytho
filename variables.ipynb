{
 "cells": [
  {
   "cell_type": "code",
   "execution_count": 3,
   "metadata": {},
   "outputs": [
    {
     "name": "stdout",
     "output_type": "stream",
     "text": [
      "Hello World!\n",
      "Welcome to Python Programming!\n"
     ]
    }
   ],
   "source": [
    "\n",
    "#say hello to the world\n",
    "print(\"Hello World!\")\n",
    "\n",
    "#welcome to python programming\n",
    "print(\"Welcome to Python Programming!\")\n"
   ]
  },
  {
   "cell_type": "code",
   "execution_count": 5,
   "metadata": {},
   "outputs": [
    {
     "name": "stdout",
     "output_type": "stream",
     "text": [
      "My name is John Doe, I am 25 years old and I love Programming\n"
     ]
    }
   ],
   "source": [
    "# variables and data types\n",
    "# variables are used to store data\n",
    "name = \"John Doe\"\n",
    "\n",
    "age = 25\n",
    "\n",
    "hobby = \"Programming\"\n",
    "\n",
    "print(f\"My name is {name}, I am {age} years old and I love {hobby}\")"
   ]
  },
  {
   "cell_type": "code",
   "execution_count": 7,
   "metadata": {},
   "outputs": [
    {
     "name": "stdout",
     "output_type": "stream",
     "text": [
      "4\n",
      "0\n",
      "4\n",
      "1.0\n",
      "0\n",
      "4\n",
      "1\n"
     ]
    }
   ],
   "source": [
    "#perform basic arithmetic operations\n",
    "#addition\n",
    "print(2 + 2)\n",
    "#subtraction\n",
    "print(2 - 2)\n",
    "#multiplication\n",
    "print(2 * 2)\n",
    "#division\n",
    "print(2 / 2)\n",
    "#modulus\n",
    "print(2 % 2)\n",
    "#exponent\n",
    "print(2 ** 2)\n",
    "#floor division\n",
    "print(2 // 2)\n"
   ]
  },
  {
   "cell_type": "code",
   "execution_count": 9,
   "metadata": {},
   "outputs": [
    {
     "name": "stdout",
     "output_type": "stream",
     "text": [
      "John Doe\n"
     ]
    }
   ],
   "source": [
    "#strings concatenation\n",
    "first_name = \"John\"\n",
    "last_name = \"Doe\"\n",
    "full_name = first_name + \" \" + last_name\n",
    "print(full_name)"
   ]
  },
  {
   "cell_type": "code",
   "execution_count": 11,
   "metadata": {},
   "outputs": [
    {
     "name": "stdout",
     "output_type": "stream",
     "text": [
      "Number is negative\n"
     ]
    }
   ],
   "source": [
    "#CONDITOINAL STATEMENTS\n",
    "# if statement\n",
    "number = -5\n",
    "\n",
    "if number > 0:\n",
    "    print(\"Number is positive\")\n",
    "else :\n",
    "    print(\"Number is negative\")"
   ]
  },
  {
   "cell_type": "code",
   "execution_count": 13,
   "metadata": {},
   "outputs": [
    {
     "name": "stdout",
     "output_type": "stream",
     "text": [
      "You are a minor\n"
     ]
    }
   ],
   "source": [
    "#calculate the age of the person \n",
    "current_year = 2024\n",
    "birth_year = input(\"Enter your birth year: \")\n",
    "age = current_year - int(birth_year)\n",
    "\n",
    "if age >=18:\n",
    "    print(\"You are an adult\")\n",
    "else:\n",
    "    print(\"You are a minor\")"
   ]
  },
  {
   "cell_type": "code",
   "execution_count": 17,
   "metadata": {},
   "outputs": [
    {
     "name": "stdout",
     "output_type": "stream",
     "text": [
      "You are a senior citizen\n"
     ]
    }
   ],
   "source": [
    "#CONTROL STRUCTURES IN PYTHON\n",
    "\n",
    "age = 75\n",
    "\n",
    "if age <18:\n",
    "    print(\"You are a minor\")    \n",
    "elif age<65: \n",
    "    print(\"You are an adult\")\n",
    "else:\n",
    "    print(\"You are a senior citizen\")"
   ]
  },
  {
   "cell_type": "code",
   "execution_count": 18,
   "metadata": {},
   "outputs": [
    {
     "name": "stdout",
     "output_type": "stream",
     "text": [
      "apple\n",
      "banana\n",
      "mango\n",
      "orange\n"
     ]
    }
   ],
   "source": [
    "#loops in python\n",
    "#for loop\n",
    "\n",
    "#loop through a list of fruits\n",
    "fruits = [\"apple\", \"banana\", \"mango\", \"orange\"]\n",
    "for x in fruits:\n",
    "    print(x)"
   ]
  },
  {
   "cell_type": "code",
   "execution_count": 21,
   "metadata": {},
   "outputs": [
    {
     "name": "stdout",
     "output_type": "stream",
     "text": [
      "0\n",
      "1\n",
      "2\n",
      "3\n",
      "4\n",
      "5\n",
      "6\n",
      "7\n",
      "8\n",
      "9\n",
      "10\n"
     ]
    }
   ],
   "source": [
    "#while loops\n",
    "f = 0\n",
    "while f <=10:\n",
    "    print(f)\n",
    "    f += 1"
   ]
  },
  {
   "cell_type": "code",
   "execution_count": null,
   "metadata": {},
   "outputs": [],
   "source": []
  }
 ],
 "metadata": {
  "kernelspec": {
   "display_name": "Python 3",
   "language": "python",
   "name": "python3"
  },
  "language_info": {
   "codemirror_mode": {
    "name": "ipython",
    "version": 3
   },
   "file_extension": ".py",
   "mimetype": "text/x-python",
   "name": "python",
   "nbconvert_exporter": "python",
   "pygments_lexer": "ipython3",
   "version": "3.12.1"
  }
 },
 "nbformat": 4,
 "nbformat_minor": 2
}
