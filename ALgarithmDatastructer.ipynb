{
 "cells": [
  {
   "cell_type": "code",
   "execution_count": 20,
   "metadata": {},
   "outputs": [
    {
     "name": "stdout",
     "output_type": "stream",
     "text": [
      "Your entered: 2 and 3 and the sum results is: 5\n"
     ]
    }
   ],
   "source": [
    "\n",
    "def add(a, b):\n",
    "    return a + b\n",
    "a = int(input(\"Enter a number: \"))\n",
    "b = int(input(\"Enter another number: \"))\n",
    "results = add(a, b)\n",
    "\n",
    "print(\"Your entered:\", a, \"and\", b , \"and the sum results is:\", results)\n"
   ]
  },
  {
   "cell_type": "code",
   "execution_count": 19,
   "metadata": {},
   "outputs": [
    {
     "name": "stdout",
     "output_type": "stream",
     "text": [
      "Your entered: 2 and 3 and the sum results is: 5\n"
     ]
    }
   ],
   "source": [
    "results = lambda a,b: a+b\n",
    "a = int(input(\"Enter a number: \"))\n",
    "b = int(input(\"Enter another number: \"))\n",
    "\n",
    "print(\"Your entered:\", a, \"and\", b , \"and the sum results is:\",results(a, b))    "
   ]
  },
  {
   "cell_type": "code",
   "execution_count": null,
   "metadata": {},
   "outputs": [],
   "source": [
    "# basic sets, lists, tuples, dictionaries\n",
    "\n",
    "# sets\n",
    "# sets are unordered and unindexed\n",
    "# sets are written with curly brackets\n",
    "# sets do not allow duplicates\n",
    "# sets are mutable\n",
    "#what are mutable and immutable objects in python?\n",
    "# mutable objects can be changed after they are created\n"
   ]
  }
 ],
 "metadata": {
  "kernelspec": {
   "display_name": "Python 3",
   "language": "python",
   "name": "python3"
  },
  "language_info": {
   "codemirror_mode": {
    "name": "ipython",
    "version": 3
   },
   "file_extension": ".py",
   "mimetype": "text/x-python",
   "name": "python",
   "nbconvert_exporter": "python",
   "pygments_lexer": "ipython3",
   "version": "3.12.1"
  }
 },
 "nbformat": 4,
 "nbformat_minor": 2
}
