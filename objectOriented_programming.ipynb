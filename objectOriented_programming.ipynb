{
 "cells": [
  {
   "cell_type": "code",
   "execution_count": 13,
   "metadata": {},
   "outputs": [
    {
     "name": "stdout",
     "output_type": "stream",
     "text": [
      "You entered:  7  and  4  (7, 4, 3)\n"
     ]
    }
   ],
   "source": [
    "def num_oper():\n",
    "    c = int(input(\"Please enter your first number: \"))\n",
    "    f = int(input(\"Please enter your second number: \"))\n",
    "    \n",
    "    if c> f:\n",
    "        results = c-f\n",
    "    else:\n",
    "        results = c+f\n",
    "    return c, f, results\n",
    "\n",
    "print(\"You entered: \",c,\" and \", f,\"\", num_oper())"
   ]
  },
  {
   "cell_type": "code",
   "execution_count": null,
   "metadata": {},
   "outputs": [],
   "source": []
  }
 ],
 "metadata": {
  "kernelspec": {
   "display_name": "Python 3",
   "language": "python",
   "name": "python3"
  },
  "language_info": {
   "codemirror_mode": {
    "name": "ipython",
    "version": 3
   },
   "file_extension": ".py",
   "mimetype": "text/x-python",
   "name": "python",
   "nbconvert_exporter": "python",
   "pygments_lexer": "ipython3",
   "version": "3.12.1"
  }
 },
 "nbformat": 4,
 "nbformat_minor": 2
}
