{
 "cells": [
  {
   "cell_type": "code",
   "execution_count": 5,
   "metadata": {},
   "outputs": [
    {
     "name": "stdout",
     "output_type": "stream",
     "text": [
      "the sum is: 30\n"
     ]
    }
   ],
   "source": [
    "#adding two numbers\n",
    "a = 10 \n",
    "b = 20\n",
    "sum = a + b\n",
    "print(\"the sum is:\", sum)"
   ]
  },
  {
   "cell_type": "code",
   "execution_count": 6,
   "metadata": {},
   "outputs": [
    {
     "ename": "ValueError",
     "evalue": "invalid literal for int() with base 10: ''",
     "output_type": "error",
     "traceback": [
      "\u001b[1;31m---------------------------------------------------------------------------\u001b[0m",
      "\u001b[1;31mValueError\u001b[0m                                Traceback (most recent call last)",
      "Cell \u001b[1;32mIn[6], line 20\u001b[0m\n\u001b[0;32m     16\u001b[0m             \u001b[38;5;28;01mreturn\u001b[39;00m \u001b[38;5;28;01mFalse\u001b[39;00m  \u001b[38;5;66;03m# If the number is divisible by any number in the range, it is not prime\u001b[39;00m\n\u001b[0;32m     18\u001b[0m     \u001b[38;5;28;01mreturn\u001b[39;00m \u001b[38;5;28;01mTrue\u001b[39;00m  \u001b[38;5;66;03m# If the number is not divisible by any number in the range, it is prime\u001b[39;00m\n\u001b[1;32m---> 20\u001b[0m n \u001b[38;5;241m=\u001b[39m \u001b[38;5;28;43mint\u001b[39;49m\u001b[43m(\u001b[49m\u001b[38;5;28;43minput\u001b[39;49m\u001b[43m(\u001b[49m\u001b[38;5;124;43m\"\u001b[39;49m\u001b[38;5;124;43mEnter a number:\u001b[39;49m\u001b[38;5;124;43m\"\u001b[39;49m\u001b[43m)\u001b[49m\u001b[43m)\u001b[49m\n\u001b[0;32m     21\u001b[0m is_prime(n)\n",
      "\u001b[1;31mValueError\u001b[0m: invalid literal for int() with base 10: ''"
     ]
    }
   ],
   "source": [
    "def is_prime(n):\n",
    "    \"\"\"\n",
    "    Check if a number is prime or not.\n",
    "\n",
    "    Args:\n",
    "        n (int): The number to be checked.\n",
    "\n",
    "    Returns:\n",
    "        bool: True if the number is prime, False otherwise.\n",
    "    \"\"\"\n",
    "    if n < 2:\n",
    "        return False  # Numbers less than 2 are not prime\n",
    "\n",
    "    for i in range(2, n):\n",
    "        if n % i == 0:\n",
    "            return False  # If the number is divisible by any number in the range, it is not prime\n",
    "\n",
    "    return True  # If the number is not divisible by any number in the range, it is prime\n",
    "\n",
    "n = int(input(\"Enter a number:\"))\n",
    "is_prime(n)\n"
   ]
  },
  {
   "cell_type": "code",
   "execution_count": null,
   "metadata": {},
   "outputs": [],
   "source": [
    "\n",
    "def prime_numbers(start, end):\n",
    "    \"\"\"\n",
    "    Print all prime numbers in an interval.\n",
    "\n",
    "    Args:\n",
    "        start (int): The starting number of the interval.\n",
    "        end (int): The ending number of the interval.\n",
    "    \"\"\"\n",
    "    # Iterate through each number in the interval\n",
    "    for val in range(start, end + 1):\n",
    "        if val > 1:\n",
    "            # Check if the number is divisible by any number from 2 to val-1\n",
    "            for n in range(2, val):\n",
    "                if val % n == 0:\n",
    "                    break\n",
    "            else:\n",
    "                # If the number is not divisible by any number, it is prime\n",
    "                print(val)\n",
    "\n",
    "# Get the starting and ending numbers from the user\n",
    "start = int(input(\"Enter the starting number:\"))\n",
    "end = int(input(\"Enter the ending number:\"))\n",
    "\n",
    "# Call the prime_numbers function with the given interval\n",
    "p_m = prime_numbers(start, end)\n",
    "print(p_m)\n",
    "\n",
    "\n"
   ]
  },
  {
   "cell_type": "code",
   "execution_count": null,
   "metadata": {},
   "outputs": [],
   "source": [
    "#decorators, functions that take other functions as arguments\n",
    "#generators, functions that return iterables\n",
    "#comprehensions, functions that return iterables\n",
    "#lambda functions, functions that return functions\n",
    "square = lambda x: x**2\n",
    "print(square(3))"
   ]
  },
  {
   "cell_type": "code",
   "execution_count": null,
   "metadata": {},
   "outputs": [],
   "source": [
    "square =[x**2 for x in range(10)]\n",
    "print(square)   "
   ]
  },
  {
   "cell_type": "code",
   "execution_count": 7,
   "metadata": {},
   "outputs": [
    {
     "name": "stdout",
     "output_type": "stream",
     "text": [
      "No three elements sum to zero.\n"
     ]
    }
   ],
   "source": [
    "from itertools import combinations\n",
    "\n",
    "# Input the number of elements\n",
    "n = int(input(\"Enter the number of elements to be inserted: \"))\n",
    "\n",
    "# Input the elements\n",
    "a = []\n",
    "for i in range(0, n):\n",
    "    elem = int(input(\"Enter element: \"))\n",
    "    a.append(elem)\n",
    "\n",
    "# Find the three elements that sum to zero\n",
    "found = False\n",
    "for combination in combinations(a, 3):\n",
    "    if sum(combination) == 0:\n",
    "        print(\"Three elements that sum to zero:\", combination)\n",
    "        found = True\n",
    "        break\n",
    "    \n",
    "\n",
    "if not found:\n",
    "    print(\"No three elements sum to zero.\")\n"
   ]
  },
  {
   "cell_type": "code",
   "execution_count": 3,
   "metadata": {},
   "outputs": [
    {
     "ename": "ModuleNotFoundError",
     "evalue": "No module named 'flask'",
     "output_type": "error",
     "traceback": [
      "\u001b[1;31m---------------------------------------------------------------------------\u001b[0m",
      "\u001b[1;31mModuleNotFoundError\u001b[0m                       Traceback (most recent call last)",
      "Cell \u001b[1;32mIn[3], line 4\u001b[0m\n\u001b[0;32m      1\u001b[0m \u001b[38;5;66;03m#flask\u001b[39;00m\n\u001b[0;32m      2\u001b[0m \u001b[38;5;66;03m#BUILDING A WEB APPLICATION WITH FLASK\u001b[39;00m\n\u001b[1;32m----> 4\u001b[0m \u001b[38;5;28;01mfrom\u001b[39;00m \u001b[38;5;21;01mflask\u001b[39;00m \u001b[38;5;28;01mimport\u001b[39;00m Flask\n\u001b[0;32m      5\u001b[0m app \u001b[38;5;241m=\u001b[39m Flask(\u001b[38;5;18m__name__\u001b[39m)\n\u001b[0;32m      7\u001b[0m \u001b[38;5;129m@app\u001b[39m\u001b[38;5;241m.\u001b[39mroute(\u001b[38;5;124m\"\u001b[39m\u001b[38;5;124m/\u001b[39m\u001b[38;5;124m\"\u001b[39m)\n\u001b[0;32m      8\u001b[0m \n\u001b[0;32m      9\u001b[0m \u001b[38;5;28;01mdef\u001b[39;00m \u001b[38;5;21mhello\u001b[39m():\n",
      "\u001b[1;31mModuleNotFoundError\u001b[0m: No module named 'flask'"
     ]
    }
   ],
   "source": [
    "#flask\n",
    "#BUILDING A WEB APPLICATION WITH FLASK\n",
    "\n",
    "from flask import Flask\n",
    "app = Flask(__name__)\n",
    "\n",
    "@app.route(\"/\")\n",
    "\n",
    "def hello():\n",
    "    return \"Hello World!\"\n",
    "\n",
    "if __name__ == \"__main__\":\n",
    "    app.run()"
   ]
  },
  {
   "cell_type": "code",
   "execution_count": null,
   "metadata": {},
   "outputs": [],
   "source": []
  }
 ],
 "metadata": {
  "kernelspec": {
   "display_name": "Python 3",
   "language": "python",
   "name": "python3"
  },
  "language_info": {
   "codemirror_mode": {
    "name": "ipython",
    "version": 3
   },
   "file_extension": ".py",
   "mimetype": "text/x-python",
   "name": "python",
   "nbconvert_exporter": "python",
   "pygments_lexer": "ipython3",
   "version": "3.12.1"
  }
 },
 "nbformat": 4,
 "nbformat_minor": 2
}
